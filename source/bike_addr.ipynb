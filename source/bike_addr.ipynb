{
 "cells": [
  {
   "cell_type": "code",
   "execution_count": 12,
   "metadata": {},
   "outputs": [],
   "source": [
    "import pandas as pd\n",
    "import numpy as np"
   ]
  },
  {
   "cell_type": "code",
   "execution_count": 16,
   "metadata": {},
   "outputs": [
    {
     "name": "stdout",
     "output_type": "stream",
     "text": [
      "   대여소\\n번호   보관소(대여소)명 소재지(위치)   Unnamed: 3 Unnamed: 4 Unnamed: 5     설치\\n시기  \\\n",
      "0      NaN         NaN     NaN          NaN        NaN        NaN        NaT   \n",
      "1      NaN         NaN     자치구         상세주소         위도         경도        NaT   \n",
      "2      NaN         NaN     NaN          NaN        NaN        NaN        NaT   \n",
      "3      NaN         NaN     NaN          NaN        NaN        NaN        NaT   \n",
      "4   1695.0  월계미륭아파트 정문     노원구  노원구 월계동 14     37.6234    127.067 2020-06-17   \n",
      "\n",
      "     설치형태 Unnamed: 8 운영\\n방식  \n",
      "0     LCD         QR    NaN  \n",
      "1     NaN        NaN    NaN  \n",
      "2  거치\\n대수     거치\\n대수    NaN  \n",
      "3     NaN        NaN    NaN  \n",
      "4     NaN         10     QR  \n",
      "<class 'pandas.core.frame.DataFrame'>\n",
      "RangeIndex: 2087 entries, 0 to 2086\n",
      "Data columns (total 10 columns):\n",
      " #   Column      Non-Null Count  Dtype         \n",
      "---  ------      --------------  -----         \n",
      " 0   대여소\n",
      "번호      2083 non-null   float64       \n",
      " 1   보관소(대여소)명   2083 non-null   object        \n",
      " 2   소재지(위치)     2084 non-null   object        \n",
      " 3   Unnamed: 3  2084 non-null   object        \n",
      " 4   Unnamed: 4  2084 non-null   object        \n",
      " 5   Unnamed: 5  2084 non-null   object        \n",
      " 6   설치\n",
      "시기       2083 non-null   datetime64[ns]\n",
      " 7   설치형태        1533 non-null   object        \n",
      " 8   Unnamed: 8  554 non-null    object        \n",
      " 9   운영\n",
      "방식       2083 non-null   object        \n",
      "dtypes: datetime64[ns](1), float64(1), object(8)\n",
      "memory usage: 163.2+ KB\n"
     ]
    }
   ],
   "source": [
    "addr = pd.read_excel(\"data/공공자전거 대여소 정보.xlsx\", sheet_name='대여소 현황')\n",
    "print(addr.head())\n",
    "addr.info()"
   ]
  },
  {
   "cell_type": "code",
   "execution_count": null,
   "metadata": {},
   "outputs": [],
   "source": []
  },
  {
   "cell_type": "code",
   "execution_count": null,
   "metadata": {},
   "outputs": [],
   "source": []
  },
  {
   "cell_type": "code",
   "execution_count": null,
   "metadata": {},
   "outputs": [],
   "source": []
  },
  {
   "cell_type": "code",
   "execution_count": null,
   "metadata": {},
   "outputs": [],
   "source": []
  },
  {
   "cell_type": "code",
   "execution_count": null,
   "metadata": {},
   "outputs": [],
   "source": []
  },
  {
   "cell_type": "code",
   "execution_count": null,
   "metadata": {},
   "outputs": [],
   "source": []
  }
 ],
 "metadata": {
  "kernelspec": {
   "display_name": "pydatavenv",
   "language": "python",
   "name": "pydatavenv"
  },
  "language_info": {
   "codemirror_mode": {
    "name": "ipython",
    "version": 3
   },
   "file_extension": ".py",
   "mimetype": "text/x-python",
   "name": "python",
   "nbconvert_exporter": "python",
   "pygments_lexer": "ipython3",
   "version": "3.7.9"
  }
 },
 "nbformat": 4,
 "nbformat_minor": 4
}
